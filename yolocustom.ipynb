{
  "nbformat": 4,
  "nbformat_minor": 0,
  "metadata": {
    "colab": {
      "provenance": [],
      "collapsed_sections": [],
      "include_colab_link": true
    },
    "kernelspec": {
      "name": "python3",
      "display_name": "Python 3"
    },
    "language_info": {
      "name": "python"
    },
    "accelerator": "GPU",
    "gpuClass": "standard"
  },
  "cells": [
    {
      "cell_type": "markdown",
      "metadata": {
        "id": "view-in-github",
        "colab_type": "text"
      },
      "source": [
        "<a href=\"https://colab.research.google.com/github/tonilsonmanoel/YolovF1Teste/blob/main/yolocustom.ipynb\" target=\"_parent\"><img src=\"https://colab.research.google.com/assets/colab-badge.svg\" alt=\"Open In Colab\"/></a>"
      ]
    },
    {
      "cell_type": "code",
      "execution_count": null,
      "metadata": {
        "id": "VywgsBPbJi2P"
      },
      "outputs": [],
      "source": [
        "from google.colab import drive\n",
        "drive.mount(\"/content/gdrive\")"
      ]
    },
    {
      "cell_type": "code",
      "source": [
        "import yaml\n",
        "\n",
        "yaml.__version__"
      ],
      "metadata": {
        "id": "uaOoyK8uPCR2"
      },
      "execution_count": null,
      "outputs": []
    },
    {
      "cell_type": "code",
      "source": [
        "!pip install --upgrade pyyaml==5.3.1"
      ],
      "metadata": {
        "id": "apkuL0qTPvZt"
      },
      "execution_count": null,
      "outputs": []
    },
    {
      "cell_type": "code",
      "source": [
        "%cd /content/gdrive/MyDrive"
      ],
      "metadata": {
        "id": "3vw37G55LO6W"
      },
      "execution_count": null,
      "outputs": []
    },
    {
      "cell_type": "code",
      "source": [
        "!pwd"
      ],
      "metadata": {
        "id": "xV28W6XnLRQQ"
      },
      "execution_count": null,
      "outputs": []
    },
    {
      "cell_type": "markdown",
      "source": [
        "Criando Diretorio e Clone repositorio"
      ],
      "metadata": {
        "id": "AAPR8EpaLUC5"
      }
    },
    {
      "cell_type": "code",
      "source": [
        "import os\n",
        "\n",
        "if not os.path.isdir(\"YoloCustom\"):\n",
        " os.makedirs(\"YoloCustom\")"
      ],
      "metadata": {
        "id": "rODMhCVsLXf2"
      },
      "execution_count": null,
      "outputs": []
    },
    {
      "cell_type": "code",
      "source": [
        "%cd YoloCustom"
      ],
      "metadata": {
        "id": "rkKajz8oLd7f",
        "colab": {
          "base_uri": "https://localhost:8080/"
        },
        "outputId": "47430e49-26a3-4b09-ab49-e19156a583fc"
      },
      "execution_count": null,
      "outputs": [
        {
          "output_type": "stream",
          "name": "stdout",
          "text": [
            "/content/gdrive/MyDrive/YoloCustom\n"
          ]
        }
      ]
    },
    {
      "cell_type": "code",
      "source": [
        "!pwd"
      ],
      "metadata": {
        "id": "H5TrdhgLLgx2"
      },
      "execution_count": null,
      "outputs": []
    },
    {
      "cell_type": "code",
      "source": [
        "!git clone https://github.com/WongKinYiu/yolov7.git"
      ],
      "metadata": {
        "id": "bbHGh0dWLt0G"
      },
      "execution_count": null,
      "outputs": []
    },
    {
      "cell_type": "markdown",
      "source": [
        "Treina Yolov7"
      ],
      "metadata": {
        "id": "VWaZQ5MwN6PX"
      }
    },
    {
      "cell_type": "code",
      "source": [
        "!pwd"
      ],
      "metadata": {
        "id": "NL01PdW6N89k"
      },
      "execution_count": null,
      "outputs": []
    },
    {
      "cell_type": "code",
      "source": [
        "%cd yolov7"
      ],
      "metadata": {
        "id": "PWHA55x6ODyl",
        "colab": {
          "base_uri": "https://localhost:8080/"
        },
        "outputId": "6e8e22cd-8967-46b7-ca3d-4435bf74464e"
      },
      "execution_count": null,
      "outputs": [
        {
          "output_type": "stream",
          "name": "stdout",
          "text": [
            "/content/gdrive/MyDrive/YoloCustom/yolov7\n"
          ]
        }
      ]
    },
    {
      "cell_type": "code",
      "source": [
        "!wget https://github.com/WongKinYiu/yolov7/releases/download/v0.1/yolov7.pt"
      ],
      "metadata": {
        "id": "Y8N1AoDLO-js"
      },
      "execution_count": null,
      "outputs": []
    },
    {
      "cell_type": "code",
      "source": [
        "!python train.py --device 0 --batch-size 16 --epochs 100 --img 640 640 --data data/custom-data.yaml --hyp data/hyp.scratch.custom.yaml --cfg cfg/training/yolov7-custom.yaml --weights yolov7.pt --name yolov7-custom"
      ],
      "metadata": {
        "id": "v_0w5gKoQZBk"
      },
      "execution_count": null,
      "outputs": []
    },
    {
      "cell_type": "markdown",
      "source": [
        "Execução Detect Img ou Video"
      ],
      "metadata": {
        "id": "749RQ5E8eHHF"
      }
    },
    {
      "cell_type": "code",
      "source": [
        "!python detect.py --weights best.pt --conf 0.5 --img-size 640 --source img3.jpg --no-trace"
      ],
      "metadata": {
        "id": "3vebtC6vZAc_"
      },
      "execution_count": null,
      "outputs": []
    },
    {
      "cell_type": "code",
      "source": [
        "!python detect.py --weights best.pt --conf 0.5 --img-size 640 --source video4.mp4 --no-trace"
      ],
      "metadata": {
        "id": "_QJedBoDbBXQ"
      },
      "execution_count": null,
      "outputs": []
    }
  ]
}